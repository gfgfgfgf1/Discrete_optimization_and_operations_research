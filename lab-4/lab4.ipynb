{
 "cells": [
  {
   "cell_type": "code",
   "execution_count": 226,
   "metadata": {},
   "outputs": [],
   "source": [
    "import numpy as np\n",
    "import random\n",
    "import time\n",
    "import math"
   ]
  },
  {
   "cell_type": "code",
   "execution_count": 227,
   "metadata": {},
   "outputs": [],
   "source": [
    "data_path = \"./data/\"\n",
    "\n",
    "files = [\"brock200_1\", \"brock200_2\", \"brock200_3\", \"brock200_4\", \"c-fat200-1\", \"c-fat200-2\", \"c-fat200-5\", \"c-fat500-1\", \"c-fat500-10\", \"c-fat500-2\", \"c-fat500-5\", \"C125.9\", \"gen200_p0.9_44\", \"gen200_p0.9_55\",  \"johnson8-2-4\",  \"johnson8-4-4\", \"johnson16-2-4\", \"hamming6-2\", \"hamming6-4\", \"hamming8-2\", \"hamming8-4\", \"keller4\", \"MANN_a9\", \"MANN_a27\", \"MANN_a45\", \"p_hat300-1\", \"p_hat300-2\", \"p_hat300-3\", \"san200_0.7_1\", \"san200_0.7_2\", \"san200_0.9_1\", \"san200_0.9_2\", \"san200_0.9_3\", \"sanr200_0.7\"]"
   ]
  },
  {
   "cell_type": "code",
   "execution_count": 228,
   "metadata": {},
   "outputs": [],
   "source": [
    "data = {} \n",
    "for file in files:\n",
    "    data[file] = {\"vertex_num\": None, \"edge_num\": None, \"edges\": {}}\n",
    "    with open(data_path + file + \".clq\", \"r\") as f:\n",
    "        for row in f:\n",
    "            if row[0].startswith('c'):\n",
    "                continue\n",
    "            elif row[0].startswith('p'):\n",
    "                data[file][\"vertex_num\"], data[file][\"edge_num\"] = int(row.split()[-2]), int(row.split()[-1])\n",
    "            else:\n",
    "                vertex1, vertex2 = int(row.split()[-2]) - 1, int(row.split()[-1]) - 1\n",
    "\n",
    "                if vertex1 not in data[file][\"edges\"].keys():\n",
    "                    data[file][\"edges\"][vertex1] = {vertex2}\n",
    "                elif vertex2 not in data[file][\"edges\"][vertex1]:\n",
    "                    data[file][\"edges\"][vertex1].add(vertex2)\n",
    "\n",
    "                if vertex2 not in data[file][\"edges\"].keys():\n",
    "                    data[file][\"edges\"][vertex2] = {vertex1}\n",
    "                elif vertex1 not in data[file][\"edges\"][vertex2]:\n",
    "                    data[file][\"edges\"][vertex2].add(vertex1)\n",
    "        data[file][\"edges\"] = dict(sorted(data[file][\"edges\"].items()))"
   ]
  },
  {
   "cell_type": "code",
   "execution_count": 229,
   "metadata": {},
   "outputs": [],
   "source": [
    "for dataset in data.keys():\n",
    "    data[dataset][\"weights\"] = {}\n",
    "    data[dataset][\"weights\"] = [math.ceil(10*i / data[dataset][\"vertex_num\"]) * 0.1 for i in range(1, data[dataset][\"vertex_num\"]+1)] "
   ]
  },
  {
   "cell_type": "code",
   "execution_count": 230,
   "metadata": {},
   "outputs": [],
   "source": [
    "def find_clique(edges: dict, weights: dict):\n",
    "    weighted_clique = []\n",
    "    weight = 0\n",
    "    original_candidates = set(edges.keys())\n",
    "    original_candidates_degrees = [len(edges[vertex]) for vertex in original_candidates]\n",
    "    probability_weights = [10*original_candidates_degrees[vertex] + 1*weights[vertex]  for vertex in edges.keys()]\n",
    "    candidates = original_candidates.copy()\n",
    "    while len(candidates) != 0:\n",
    "        candidates_probability_weights = [probability_weights[i] for i in candidates]\n",
    "        vertex = random.choices(population=list(candidates), weights=candidates_probability_weights, k=1)[0]\n",
    "            \n",
    "        weighted_clique.append(vertex)\n",
    "        weight += weights[vertex]\n",
    "            \n",
    "        candidates = candidates.intersection(edges[vertex])\n",
    "        candidates = candidates.intersection(edges[vertex])\n",
    "    return weight, weighted_clique"
   ]
  },
  {
   "cell_type": "code",
   "execution_count": 231,
   "metadata": {},
   "outputs": [],
   "source": [
    "def randomized_greedy_max_clique(edges: dict, weights: dict) -> list:\n",
    "    attempts = 0\n",
    "    best_weighted_clique = []\n",
    "    best_weight = 0\n",
    "    while attempts < 10000:\n",
    "        weight, weighted_clique = find_clique(edges, weights)\n",
    "        if weight > best_weight:\n",
    "            best_weighted_clique = weighted_clique.copy()\n",
    "            best_weight = weight\n",
    "            attempts = 0\n",
    "        else:\n",
    "            attempts += 1\n",
    "\n",
    "    return best_weight, best_weighted_clique"
   ]
  },
  {
   "cell_type": "code",
   "execution_count": 232,
   "metadata": {},
   "outputs": [
    {
     "name": "stdout",
     "output_type": "stream",
     "text": [
      "Наименование датасета: brock200_1, Время работы алгоритма: 1.7803476000008231, Лучший вес: 5.2, Лучшая клика: [180, 191, 99, 187, 139, 199]\n",
      "Наименование датасета: brock200_2, Время работы алгоритма: 2.458053800000016, Лучший вес: 7.7, Лучшая клика: [190, 123, 191, 173, 166, 179, 142, 198, 82]\n",
      "Наименование датасета: brock200_3, Время работы алгоритма: 2.551220000000285, Лучший вес: 5.900000000000001, Лучшая клика: [116, 187, 130, 37, 126, 148, 190, 176]\n",
      "Наименование датасета: brock200_4, Время работы алгоритма: 3.6916957000003094, Лучший вес: 5.800000000000001, Лучшая клика: [186, 139, 154, 176, 109, 179, 175]\n",
      "Наименование датасета: c-fat200-1, Время работы алгоритма: 3.8106207000000722, Лучший вес: 13.100000000000001, Лучшая клика: [148, 171, 152, 128, 64, 169, 108, 179, 173, 187, 140, 167, 197, 191, 89, 45, 121]\n",
      "Наименование датасета: c-fat200-2, Время работы алгоритма: 4.43862689999969, Лучший вес: 7.6000000000000005, Лучшая клика: [180, 186, 166, 138, 176, 170, 146, 70, 190]\n",
      "Наименование датасета: c-fat200-5, Время работы алгоритма: 1.4750031000003219, Лучший вес: 3.0, Лучшая клика: [184, 182, 187]\n",
      "Наименование датасета: c-fat500-1, Время работы алгоритма: 24.18539260000034, Лучший вес: 26.900000000000002, Лучшая клика: [433, 371, 187, 384, 467, 377, 251, 485, 236, 483, 435, 360, 481, 487, 181, 449, 179, 357, 202, 311, 149, 431, 158, 495, 375, 24, 459, 453, 474, 445, 367, 461, 493, 109, 337, 249]\n",
      "Наименование датасета: c-fat500-10, Время работы алгоритма: 9.68396329999996, Лучший вес: 4.0, Лучшая клика: [475, 461, 457, 455]\n",
      "Наименование датасета: c-fat500-2, Время работы алгоритма: 15.070218100000602, Лучший вес: 14.700000000000001, Лучшая клика: [432, 490, 208, 454, 354, 358, 122, 463, 418, 305, 492, 216, 389, 204, 427, 341, 326, 396, 400]\n",
      "Наименование датасета: c-fat500-5, Время работы алгоритма: 9.203384499999629, Лучший вес: 6.8, Лучшая клика: [339, 441, 463, 471, 427, 261, 413, 385]\n",
      "Наименование датасета: C125.9, Время работы алгоритма: 0.9109704999991663, Лучший вес: 3.2, Лучшая клика: [89, 121, 104, 57]\n",
      "Наименование датасета: gen200_p0.9_44, Время работы алгоритма: 1.3328835000002073, Лучший вес: 4.0, Лучшая клика: [60, 170, 162, 195, 155]\n",
      "Наименование датасета: gen200_p0.9_55, Время работы алгоритма: 1.2997689000003447, Лучший вес: 3.6, Лучшая клика: [182, 140, 146, 193]\n",
      "Наименование датасета: johnson8-2-4, Время работы алгоритма: 0.46516299999984767, Лучший вес: 6.500000000000001, Лучшая клика: [21, 24, 26, 25, 23, 22, 27]\n",
      "Наименование датасета: johnson8-4-4, Время работы алгоритма: 0.6095269999996162, Лучший вес: 5.0, Лучшая клика: [66, 67, 69, 65, 68]\n",
      "Наименование датасета: johnson16-2-4, Время работы алгоритма: 1.4320251999997708, Лучший вес: 14.700000000000001, Лучшая клика: [108, 110, 118, 119, 116, 105, 107, 112, 109, 111, 117, 115, 113, 114, 106]\n",
      "Наименование датасета: hamming6-2, Время работы алгоритма: 0.41445759999987786, Лучший вес: 2.0, Лучшая клика: [60, 61]\n",
      "Наименование датасета: hamming6-4, Время работы алгоритма: 1.1734869000001709, Лучший вес: 10.400000000000002, Лучшая клика: [57, 45, 62, 29, 55, 31, 63, 53, 59, 60, 61, 47]\n",
      "Наименование датасета: hamming8-2, Время работы алгоритма: 1.4295760999993945, Лучший вес: 2.0, Лучшая клика: [231, 230]\n",
      "Наименование датасета: hamming8-4, Время работы алгоритма: 2.588204899999255, Лучший вес: 14.400000000000002, Лучшая клика: [232, 242, 251, 120, 218, 254, 248, 234, 184, 252, 249, 186, 240, 250, 216, 122]\n",
      "Наименование датасета: keller4, Время работы алгоритма: 2.284966899999745, Лучший вес: 13.000000000000004, Лучшая клика: [115, 170, 158, 111, 161, 132, 168, 116, 112, 162, 167, 128, 131, 157, 127]\n",
      "Наименование датасета: MANN_a9, Время работы алгоритма: 0.32656889999998384, Лучший вес: 3.0, Лучшая клика: [42, 44, 43]\n",
      "Наименование датасета: MANN_a27, Время работы алгоритма: 2.2826951000006375, Лучший вес: 3.0, Лучшая клика: [346, 347, 345]\n",
      "Наименование датасета: MANN_a45, Время работы алгоритма: 6.397051100000681, Лучший вес: 3.0, Лучшая клика: [935, 934, 933]\n",
      "Наименование датасета: p_hat300-1, Время работы алгоритма: 8.343839900000603, Лучший вес: 21.899999999999995, Лучшая клика: [257, 214, 283, 241, 271, 281, 80, 9, 99, 284, 98, 142, 232, 186, 221, 274, 237, 154, 33, 147, 59, 71, 11, 247, 68, 294, 235, 242, 194, 115, 182, 275, 240]\n",
      "Наименование датасета: p_hat300-2, Время работы алгоритма: 9.880915600000662, Лучший вес: 16.099999999999998, Лучшая клика: [65, 247, 194, 288, 111, 206, 242, 294, 98, 233, 11, 131, 277, 237, 16, 68, 227, 283, 193, 40, 154, 168, 229, 209, 223]\n",
      "Наименование датасета: p_hat300-3, Время работы алгоритма: 4.982278400000723, Лучший вес: 6.0, Лучшая клика: [278, 141, 229, 162, 237, 277, 287, 68]\n",
      "Наименование датасета: san200_0.7_1, Время работы алгоритма: 1.5828984999989189, Лучший вес: 5.7, Лучшая клика: [157, 134, 190, 188, 161, 56, 185]\n",
      "Наименование датасета: san200_0.7_2, Время работы алгоритма: 1.7051223999987997, Лучший вес: 7.800000000000001, Лучшая клика: [45, 157, 150, 161, 170, 87, 187, 109, 159, 95, 131]\n",
      "Наименование датасета: san200_0.9_1, Время работы алгоритма: 1.2697778000001563, Лучший вес: 3.1000000000000005, Лучшая клика: [103, 196, 156, 127]\n",
      "Наименование датасета: san200_0.9_2, Время работы алгоритма: 1.3868407999998453, Лучший вес: 3.6, Лучшая клика: [146, 195, 154, 196]\n",
      "Наименование датасета: san200_0.9_3, Время работы алгоритма: 1.364721500000087, Лучший вес: 3.7, Лучшая клика: [182, 167, 180, 152]\n",
      "Наименование датасета: sanr200_0.7, Время работы алгоритма: 2.6272014000005584, Лучший вес: 5.1000000000000005, Лучшая клика: [165, 144, 120, 185, 129, 182]\n"
     ]
    }
   ],
   "source": [
    "for dataset in data.keys():\n",
    "        for i in range(10):\n",
    "                time_start = time.perf_counter()\n",
    "                all_vertices = set(range(len(data[dataset][\"edges\"].keys())))\n",
    "                data[dataset][\"additions\"] = {}\n",
    "                for vertex in data[dataset][\"edges\"].keys():\n",
    "                        data[dataset][\"additions\"][vertex] = all_vertices - data[dataset][\"edges\"][vertex] - set([vertex])\n",
    "                data[dataset][\"best_weight\"], data[dataset][\"best_weighted_clique\"] = randomized_greedy_max_clique(data[dataset][\"additions\"], data[dataset][\"weights\"])\n",
    "        time_working = time.perf_counter() - time_start\n",
    "        print(f'Наименование датасета: {dataset}, Время работы алгоритма: {time_working}, Лучший вес: {data[dataset][\"best_weight\"]}, Лучшая клика: {data[dataset][\"best_weighted_clique\"]}')"
   ]
  }
 ],
 "metadata": {
  "kernelspec": {
   "display_name": "gpu",
   "language": "python",
   "name": "python3"
  },
  "language_info": {
   "codemirror_mode": {
    "name": "ipython",
    "version": 3
   },
   "file_extension": ".py",
   "mimetype": "text/x-python",
   "name": "python",
   "nbconvert_exporter": "python",
   "pygments_lexer": "ipython3",
   "version": "3.8.3"
  }
 },
 "nbformat": 4,
 "nbformat_minor": 2
}
